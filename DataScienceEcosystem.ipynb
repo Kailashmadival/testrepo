{
 "cells": [
  {
   "cell_type": "markdown",
   "metadata": {},
   "source": [
    "<h1>\n",
    "# Data Science Tools and Ecosystem\n",
    "</h1>"
   ]
  },
  {
   "cell_type": "markdown",
   "metadata": {},
   "source": [
    "Jupyter Notebooks are an open-source web application that allows you to create and share documents that contain live code, equations, visualizations, and narrative text. They are widely used in data science for data cleaning and transformation, numerical simulation, statistical modeling, data visualization, and machine learning.\n"
   ]
  },
  {
   "cell_type": "markdown",
   "metadata": {},
   "source": [
    "# Some of the popular languages that Data Scientists use are:\n",
    "1. Python\n",
    "2. R\n",
    "3. SQL\n",
    "4. Julia\n",
    "5. Scala\n"
   ]
  },
  {
   "cell_type": "markdown",
   "metadata": {},
   "source": [
    "# Some of the popular data science libraries are:\n",
    "1. Pandas\n",
    "2. NumPy\n",
    "3. Matplotlib\n",
    "4. Scikit-learn\n",
    "5. TensorFlow\n",
    "6. Keras\n",
    "7. PyTorch\n",
    "8. SciPy\n",
    "9. Seaborn\n",
    "10. Statsmodels\n"
   ]
  },
  {
   "cell_type": "markdown",
   "metadata": {},
   "source": [
    "# Some of the popular data science tools are:\n",
    "1. Jupyter Notebook\n",
    "2. RStudio\n",
    "3. Apache Spark\n",
    "4. TensorFlow\n",
    "5. Apache Hadoop\n"
   ]
  },
  {
   "cell_type": "markdown",
   "metadata": {},
   "source": [
    "# Here are a few examples of evaluating arithmetic expressions in Python:\n",
    "\n",
    "```python\n",
    "# Addition\n",
    "3 + 5\n",
    "# Output: 8\n",
    "\n",
    "# Subtraction\n",
    "10 - 2\n",
    "# Output: 8\n",
    "\n",
    "# Multiplication\n",
    "4 * 7\n",
    "# Output: 28\n",
    "\n",
    "# Division\n",
    "20 / 5\n",
    "# Output: 4.0\n",
    "\n",
    "# Exponentiation\n",
    "2 ** 3\n",
    "# Output: 8\n",
    "\n",
    "# Modulus\n",
    "10 % 3\n",
    "# Output: 1\n"
   ]
  },
  {
   "cell_type": "code",
   "execution_count": 4,
   "metadata": {},
   "outputs": [
    {
     "data": {
      "text/plain": [
       "17"
      ]
     },
     "execution_count": 4,
     "metadata": {},
     "output_type": "execute_result"
    }
   ],
   "source": [
    "# This a simple arithmetic expression to mutiply then add integers.\n",
    "(3*4)+5"
   ]
  },
  {
   "cell_type": "code",
   "execution_count": 5,
   "metadata": {},
   "outputs": [
    {
     "data": {
      "text/plain": [
       "3.3333333333333335"
      ]
     },
     "execution_count": 5,
     "metadata": {},
     "output_type": "execute_result"
    }
   ],
   "source": [
    "# This will convert 200 minutes to hours by diving by 60\n",
    "# Conversion\n",
    "minutes = 200\n",
    "hours = minutes / 60\n",
    "hours\n"
   ]
  },
  {
   "cell_type": "markdown",
   "metadata": {},
   "source": [
    "# Objectives:\n",
    " the objectives covered on the topic of \"Data Science Tools and Ecosystem\" could be:\n",
    " \n",
    "-  Understanding the role and significance of Jupyter Notebooks in data science.\n",
    "- Identifying popular programming languages used by Data Scientists.\n",
    "- Recognizing commonly used data science libraries for various tasks.\n",
    "- Familiarizing oneself with popular data science tools beyond programming languages and libraries.\n",
    "- Demonstrating examples of evaluating arithmetic expressions in Python.\n",
    "\n",
    "These objectives encompass a broad range of topics related to the tools and ecosystem of data science, from the software environment to programming languages, libraries, and basic operations within Python."
   ]
  },
  {
   "cell_type": "markdown",
   "metadata": {},
   "source": [
    "# Author\n",
    "<h2> Kailash Madival</h2>"
   ]
  }
 ],
 "metadata": {
  "kernelspec": {
   "display_name": "Python 3",
   "language": "python",
   "name": "python3"
  },
  "language_info": {
   "codemirror_mode": {
    "name": "ipython",
    "version": 3
   },
   "file_extension": ".py",
   "mimetype": "text/x-python",
   "name": "python",
   "nbconvert_exporter": "python",
   "pygments_lexer": "ipython3",
   "version": "3.10.6"
  }
 },
 "nbformat": 4,
 "nbformat_minor": 2
}
